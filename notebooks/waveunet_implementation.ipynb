{
  "nbformat": 4,
  "nbformat_minor": 0,
  "metadata": {
    "colab": {
      "name": "waveunet_implementation.ipynb",
      "provenance": [],
      "collapsed_sections": []
    },
    "kernelspec": {
      "name": "python3",
      "display_name": "Python 3"
    },
    "language_info": {
      "name": "python"
    }
  },
  "cells": [
    {
      "cell_type": "code",
      "metadata": {
        "id": "V2JLnptM5LaF"
      },
      "source": [
        "%%capture\n",
        "!git clone https://github.com/f90/Wave-U-Net-Pytorch.git"
      ],
      "execution_count": null,
      "outputs": []
    },
    {
      "cell_type": "code",
      "metadata": {
        "id": "5ELxvOf_3NUO"
      },
      "source": [
        "%%capture\n",
        "pip install musdb"
      ],
      "execution_count": null,
      "outputs": []
    },
    {
      "cell_type": "code",
      "metadata": {
        "id": "30PeOk383SH-"
      },
      "source": [
        "%%capture\n",
        "pip install asteroid"
      ],
      "execution_count": null,
      "outputs": []
    },
    {
      "cell_type": "code",
      "metadata": {
        "colab": {
          "base_uri": "https://localhost:8080/",
          "height": 35
        },
        "id": "n2BhO8vF6ImQ",
        "outputId": "98a0d418-eafe-4851-9d14-2f274fd3a730"
      },
      "source": [
        "pwd"
      ],
      "execution_count": null,
      "outputs": [
        {
          "output_type": "execute_result",
          "data": {
            "application/vnd.google.colaboratory.intrinsic+json": {
              "type": "string"
            },
            "text/plain": [
              "'/content'"
            ]
          },
          "metadata": {
            "tags": []
          },
          "execution_count": 19
        }
      ]
    },
    {
      "cell_type": "code",
      "metadata": {
        "id": "9I3ceShDOoYY"
      },
      "source": [
        "import asteroid\n",
        "import musdb\n",
        "import torch\n",
        "import sys\n",
        "import os\n",
        "import pytorch_lightning as pl\n",
        "from asteroid.data import MUSDB18Dataset\n",
        "sys.path.append('./Wave-U-Net-Pytorch')\n",
        "from model.waveunet import Waveunet"
      ],
      "execution_count": null,
      "outputs": []
    },
    {
      "cell_type": "markdown",
      "metadata": {
        "id": "10pKOB_J3sap"
      },
      "source": [
        "# Dataset"
      ]
    },
    {
      "cell_type": "code",
      "metadata": {
        "colab": {
          "base_uri": "https://localhost:8080/"
        },
        "id": "Wx0yVaPb3pNd",
        "outputId": "3ac63875-4897-4a95-d726-ff67780fbc19"
      },
      "source": [
        "db = musdb.DB(download=True)\n",
        "!musdbconvert \"../root/MUSDB18/MUSDB18-7\" \"../root/MUSDB18/MUSDB18-7-wav\"\n",
        "\n",
        "#torch dataset objects\n",
        "train_dataset = MUSDB18Dataset(root='../root/MUSDB18/MUSDB18-7-wav', suffix='.wav', split='train')\n",
        "test_dataset = MUSDB18Dataset(root='../root/MUSDB18/MUSDB18-7-wav', suffix='.wav', split='test')"
      ],
      "execution_count": null,
      "outputs": [
        {
          "output_type": "stream",
          "text": [
            "100% 144/144 [06:10<00:00,  2.57s/it]\n"
          ],
          "name": "stdout"
        },
        {
          "output_type": "stream",
          "text": [
            "94it [00:00, 2069.10it/s]\n",
            "50it [00:00, 2033.29it/s]\n"
          ],
          "name": "stderr"
        }
      ]
    },
    {
      "cell_type": "code",
      "metadata": {
        "id": "PbhhQNAi37cJ"
      },
      "source": [
        "#dataloaders which load batches of our datasets during training and validation\n",
        "train_loader = torch.utils.data.DataLoader(train_dataset, batch_size=1)\n",
        "test = torch.utils.data.DataLoader(test_dataset, batch_size=1)"
      ],
      "execution_count": null,
      "outputs": []
    },
    {
      "cell_type": "markdown",
      "metadata": {
        "id": "o8sIUntP3_en"
      },
      "source": [
        "# Model"
      ]
    },
    {
      "cell_type": "code",
      "metadata": {
        "colab": {
          "base_uri": "https://localhost:8080/"
        },
        "id": "nGkAN25b3-DM",
        "outputId": "322fab93-ae7f-47e6-fa02-426a29c429e3"
      },
      "source": [
        "sr = 44100\n",
        "out_size = 2.0\n",
        "\n",
        "features = 32\n",
        "levels = 6\n",
        "num_features = [features*2**i for i in range(0, levels)]\n",
        "\n",
        "model = Waveunet(num_inputs=4, \n",
        "                 num_channels=num_features, \n",
        "                 num_outputs=4, \n",
        "                 instruments=[\"bass\", \"drums\", \"other\", \"vocals\"], \n",
        "                 kernel_size=5, \n",
        "                 target_output_size=out_size*sr, \n",
        "                 separate=1, \n",
        "                 depth=1, \n",
        "                 strides=2, \n",
        "                 conv_type=\"gn\", \n",
        "                 res=\"fixed\"\n",
        "                 )"
      ],
      "execution_count": null,
      "outputs": [
        {
          "output_type": "stream",
          "text": [
            "Using valid convolutions with 88825 inputs and 88201 outputs\n"
          ],
          "name": "stdout"
        }
      ]
    }
  ]
}