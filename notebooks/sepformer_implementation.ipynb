{
  "nbformat": 4,
  "nbformat_minor": 0,
  "metadata": {
    "colab": {
      "name": "sepformer_implementation.ipynb",
      "provenance": [],
      "collapsed_sections": []
    },
    "kernelspec": {
      "name": "python3",
      "display_name": "Python 3"
    },
    "language_info": {
      "name": "python"
    }
  },
  "cells": [
    {
      "cell_type": "markdown",
      "metadata": {
        "id": "VDsVgVGsLPrI"
      },
      "source": [
        "# Installs"
      ]
    },
    {
      "cell_type": "code",
      "metadata": {
        "id": "cHhoivcrZ2HX"
      },
      "source": [
        "!git clone https://github.com/SungFeng-Huang/SSL-pretraining-separation.git"
      ],
      "execution_count": null,
      "outputs": []
    },
    {
      "cell_type": "code",
      "metadata": {
        "id": "zZ60ji5QLNDB"
      },
      "source": [
        "pip install asteroid"
      ],
      "execution_count": null,
      "outputs": []
    },
    {
      "cell_type": "code",
      "metadata": {
        "id": "FVU-n2r8riOH"
      },
      "source": [
        "pip install musdb"
      ],
      "execution_count": 4,
      "outputs": []
    },
    {
      "cell_type": "markdown",
      "metadata": {
        "id": "dFa1I5XJfWT5"
      },
      "source": [
        "# Imports"
      ]
    },
    {
      "cell_type": "code",
      "metadata": {
        "id": "u-3mjKy9aM8B"
      },
      "source": [
        "import asteroid\n",
        "import sys\n",
        "import os\n",
        "sys.path.append(os.path.abspath('./SSL-pretraining-separation'))\n",
        "from src.models import sepformer_tasnet\n",
        "from asteroid.data import MUSDB18Dataset\n",
        "import torch\n",
        "import musdb"
      ],
      "execution_count": null,
      "outputs": []
    },
    {
      "cell_type": "markdown",
      "metadata": {
        "id": "LSKIzQPAvCIt"
      },
      "source": [
        "# Dataset"
      ]
    },
    {
      "cell_type": "code",
      "metadata": {
        "colab": {
          "base_uri": "https://localhost:8080/"
        },
        "id": "7B6CRRLbfbkE",
        "outputId": "adb3d97f-2db7-411a-9973-e954fdf52a52"
      },
      "source": [
        "#Downloading dataset\n",
        "db = musdb.DB(download=True)"
      ],
      "execution_count": 6,
      "outputs": [
        {
          "output_type": "stream",
          "text": [
            "Downloading MUSDB 7s Sample Dataset to /root/MUSDB18/MUSDB18-7...\n",
            "Done!\n"
          ],
          "name": "stdout"
        }
      ]
    },
    {
      "cell_type": "code",
      "metadata": {
        "id": "2yRjbimEuqYL"
      },
      "source": [
        "#Converting dataset from stem.mp4 files to wav files to make compatible with asteroid\n",
        "!musdbconvert \"../root/MUSDB18/MUSDB18-7\" \"../root/MUSDB18/MUSDB18-7-wav\""
      ],
      "execution_count": null,
      "outputs": []
    },
    {
      "cell_type": "code",
      "metadata": {
        "colab": {
          "base_uri": "https://localhost:8080/"
        },
        "id": "KdcBanu9fhk-",
        "outputId": "de70dbae-6a21-4d7d-f0c8-fe6b1e4934d3"
      },
      "source": [
        "#torch dataset objects\n",
        "train_dataset = MUSDB18Dataset(root='../root/MUSDB18/MUSDB18-7-wav', suffix='.wav', split='train')\n",
        "test_dataset = MUSDB18Dataset(root='../root/MUSDB18/MUSDB18-7-wav', suffix='.wav', split='test')"
      ],
      "execution_count": 14,
      "outputs": [
        {
          "output_type": "stream",
          "text": [
            "94it [00:00, 2069.42it/s]\n",
            "50it [00:00, 2037.47it/s]\n"
          ],
          "name": "stderr"
        }
      ]
    },
    {
      "cell_type": "code",
      "metadata": {
        "id": "bN-OvpqWtDa8"
      },
      "source": [
        "#dataloaders which load batches of our datasets during training and validation\n",
        "train_loader = torch.utils.data.DataLoader(train_dataset, batch_size=1)\n",
        "test = torch.utils.data.DataLoader(test_dataset, batch_size=1)"
      ],
      "execution_count": 16,
      "outputs": []
    },
    {
      "cell_type": "markdown",
      "metadata": {
        "id": "C8Jd74EbxpCl"
      },
      "source": [
        "# Model"
      ]
    },
    {
      "cell_type": "code",
      "metadata": {
        "id": "wpl9qURzw6JL"
      },
      "source": [
        "#Initialize model\n",
        "model = sepformer_tasnet.SepFormerTasNet(n_src=4)"
      ],
      "execution_count": 17,
      "outputs": []
    },
    {
      "cell_type": "markdown",
      "metadata": {
        "id": "xAYuaZGpMT7A"
      },
      "source": [
        "# Encoder"
      ]
    },
    {
      "cell_type": "code",
      "metadata": {
        "id": "PZNnpgKFMXpK"
      },
      "source": [
        ""
      ],
      "execution_count": null,
      "outputs": []
    },
    {
      "cell_type": "markdown",
      "metadata": {
        "id": "2w1GyiNoMbZ_"
      },
      "source": [
        "# Masking Network"
      ]
    },
    {
      "cell_type": "markdown",
      "metadata": {
        "id": "0lHGX6VDMl-t"
      },
      "source": [
        "# Decoder"
      ]
    }
  ]
}