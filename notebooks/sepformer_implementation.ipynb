{
  "nbformat": 4,
  "nbformat_minor": 0,
  "metadata": {
    "colab": {
      "name": "sepformer_implementation.ipynb",
      "provenance": [],
      "collapsed_sections": []
    },
    "kernelspec": {
      "name": "python3",
      "display_name": "Python 3"
    },
    "language_info": {
      "name": "python"
    },
    "accelerator": "GPU"
  },
  "cells": [
    {
      "cell_type": "markdown",
      "metadata": {
        "id": "dk13L6An0zlq"
      },
      "source": [
        "Other things to try still\n",
        "\n",
        "- training\n",
        "- scoring results\n",
        "- Building our model/modifying this one to include things like augmentation\n"
      ]
    },
    {
      "cell_type": "markdown",
      "metadata": {
        "id": "VDsVgVGsLPrI"
      },
      "source": [
        "# Installs"
      ]
    },
    {
      "cell_type": "code",
      "metadata": {
        "id": "cHhoivcrZ2HX"
      },
      "source": [
        "!git clone https://github.com/SungFeng-Huang/SSL-pretraining-separation.git"
      ],
      "execution_count": null,
      "outputs": []
    },
    {
      "cell_type": "code",
      "metadata": {
        "id": "VrffvQ3MpkBU"
      },
      "source": [
        "!git clone https://github.com/asteroid-team/asteroid.git"
      ],
      "execution_count": null,
      "outputs": []
    },
    {
      "cell_type": "code",
      "metadata": {
        "id": "zZ60ji5QLNDB"
      },
      "source": [
        "pip install -e asteroid/."
      ],
      "execution_count": null,
      "outputs": []
    },
    {
      "cell_type": "code",
      "metadata": {
        "id": "FVU-n2r8riOH",
        "colab": {
          "base_uri": "https://localhost:8080/"
        },
        "outputId": "797141e5-b639-4d2b-83f9-278c57183a6f"
      },
      "source": [
        "pip install musdb"
      ],
      "execution_count": 1,
      "outputs": [
        {
          "output_type": "stream",
          "text": [
            "Requirement already satisfied: musdb in /usr/local/lib/python3.7/dist-packages (0.4.0)\n",
            "Requirement already satisfied: pyaml in /usr/local/lib/python3.7/dist-packages (from musdb) (21.8.3)\n",
            "Requirement already satisfied: stempeg>=0.2.3 in /usr/local/lib/python3.7/dist-packages (from musdb) (0.2.3)\n",
            "Requirement already satisfied: tqdm in /usr/local/lib/python3.7/dist-packages (from musdb) (4.62.0)\n",
            "Requirement already satisfied: numpy>=1.7 in /usr/local/lib/python3.7/dist-packages (from musdb) (1.19.5)\n",
            "Requirement already satisfied: ffmpeg-python>=0.2.0 in /usr/local/lib/python3.7/dist-packages (from stempeg>=0.2.3->musdb) (0.2.0)\n",
            "Requirement already satisfied: future in /usr/local/lib/python3.7/dist-packages (from ffmpeg-python>=0.2.0->stempeg>=0.2.3->musdb) (0.18.2)\n",
            "Requirement already satisfied: PyYAML in /usr/local/lib/python3.7/dist-packages (from pyaml->musdb) (5.4.1)\n"
          ],
          "name": "stdout"
        }
      ]
    },
    {
      "cell_type": "markdown",
      "metadata": {
        "id": "dFa1I5XJfWT5"
      },
      "source": [
        "# Imports"
      ]
    },
    {
      "cell_type": "code",
      "metadata": {
        "id": "u-3mjKy9aM8B"
      },
      "source": [
        "import sys\n",
        "import os\n",
        "sys.path.append(os.path.abspath('/content/SSL-pretraining-separation'))\n",
        "from src.models import sepformer_tasnet\n",
        "from asteroid.data import MUSDB18Dataset\n",
        "import torch\n",
        "import musdb\n",
        "from torch.optim import Adam\n",
        "from asteroid.engine.system import System\n",
        "from asteroid.losses import PITLossWrapper, pairwise_neg_sisdr\n",
        "import pytorch_lightning as pl"
      ],
      "execution_count": 2,
      "outputs": []
    },
    {
      "cell_type": "markdown",
      "metadata": {
        "id": "LSKIzQPAvCIt"
      },
      "source": [
        "# Dataset"
      ]
    },
    {
      "cell_type": "code",
      "metadata": {
        "id": "7B6CRRLbfbkE",
        "colab": {
          "base_uri": "https://localhost:8080/"
        },
        "outputId": "f78d648e-1932-4103-e5f8-6c5fc0901dd6"
      },
      "source": [
        "#Downloading dataset\n",
        "db = musdb.DB(download=True)"
      ],
      "execution_count": 3,
      "outputs": [
        {
          "output_type": "stream",
          "text": [
            "Downloading MUSDB 7s Sample Dataset to /root/MUSDB18/MUSDB18-7...\n",
            "Done!\n"
          ],
          "name": "stdout"
        }
      ]
    },
    {
      "cell_type": "code",
      "metadata": {
        "id": "2yRjbimEuqYL",
        "colab": {
          "base_uri": "https://localhost:8080/"
        },
        "outputId": "6c95a87b-5715-4d4e-9182-9d5b78fb8848"
      },
      "source": [
        "#Converting dataset from stem.mp4 files to wav files to make compatible with asteroid\n",
        "!musdbconvert \"../root/MUSDB18/MUSDB18-7\" \"../root/MUSDB18/MUSDB18-7-wav\""
      ],
      "execution_count": 4,
      "outputs": [
        {
          "output_type": "stream",
          "text": [
            "100% 144/144 [05:10<00:00,  2.16s/it]\n"
          ],
          "name": "stdout"
        }
      ]
    },
    {
      "cell_type": "code",
      "metadata": {
        "colab": {
          "base_uri": "https://localhost:8080/"
        },
        "id": "KdcBanu9fhk-",
        "outputId": "34698cab-9d8f-4ab4-f3a6-a67755281484"
      },
      "source": [
        "#torch dataset objects\n",
        "train_dataset = MUSDB18Dataset(root='../root/MUSDB18/MUSDB18-7-wav', suffix='.wav', split='train')\n",
        "test_dataset = MUSDB18Dataset(root='../root/MUSDB18/MUSDB18-7-wav', suffix='.wav', split='test')"
      ],
      "execution_count": 6,
      "outputs": [
        {
          "output_type": "stream",
          "text": [
            "94it [00:00, 2797.75it/s]\n",
            "50it [00:00, 2472.39it/s]\n"
          ],
          "name": "stderr"
        }
      ]
    },
    {
      "cell_type": "code",
      "metadata": {
        "id": "bN-OvpqWtDa8"
      },
      "source": [
        "#dataloaders which load batches of our datasets during training and validation\n",
        "train_loader = torch.utils.data.DataLoader(train_dataset, batch_size=1, drop_last=True, collate_fn= lambda x: make_tensor(x))\n",
        "test_loader = torch.utils.data.DataLoader(test_dataset, batch_size=1, drop_last=True, collate_fn= lambda x: make_tensor(x))"
      ],
      "execution_count": 7,
      "outputs": []
    },
    {
      "cell_type": "code",
      "metadata": {
        "id": "kuVF_WLgBewi"
      },
      "source": [
        "def make_tensor(x):\n",
        "  x = list(x[0])\n",
        "  dict_y = x[1]\n",
        "  x[1] = torch.stack([torch.narrow(dict_y['bass'], 0,0, 1), torch.narrow(dict_y['vocals'], 0, 0, 1), torch.narrow(dict_y['drums'], 0, 0, 1), torch.narrow(dict_y['other'], 0, 0, 1)],dim=0).squeeze()\n",
        "  x[0] = torch.narrow(x[0], 0,0, 1).unsqueeze(0)\n",
        "  x[1] = x[1].unsqueeze(0)\n",
        "  return x"
      ],
      "execution_count": 8,
      "outputs": []
    },
    {
      "cell_type": "markdown",
      "metadata": {
        "id": "C8Jd74EbxpCl"
      },
      "source": [
        "# Model"
      ]
    },
    {
      "cell_type": "code",
      "metadata": {
        "id": "wpl9qURzw6JL"
      },
      "source": [
        "#Initialize model\n",
        "model = sepformer_tasnet.SepFormerTasNet(n_src=4,n_filters=2,n_heads=2)"
      ],
      "execution_count": 9,
      "outputs": []
    },
    {
      "cell_type": "markdown",
      "metadata": {
        "id": "6hLwWCr21Jv4"
      },
      "source": [
        "# Optimizer & Loss"
      ]
    },
    {
      "cell_type": "code",
      "metadata": {
        "id": "Qt13wb8i1XAM"
      },
      "source": [
        "optimizer = Adam(model.parameters(), lr=1e-5)\n",
        "loss_func = PITLossWrapper(pairwise_neg_sisdr, pit_from='pw_mtx')"
      ],
      "execution_count": 10,
      "outputs": []
    },
    {
      "cell_type": "markdown",
      "metadata": {
        "id": "1VHIqAgK1au3"
      },
      "source": [
        "# Training"
      ]
    },
    {
      "cell_type": "code",
      "metadata": {
        "id": "LdVeQtdF3Way"
      },
      "source": [
        "system = System(model=model, loss_func=loss_func, optimizer=optimizer,\n",
        "                train_loader=train_loader, val_loader=test_loader)\n",
        "# Define lightning trainer, and train\n",
        "trainer = pl.Trainer( log_every_n_steps=5,gpus=1)\n",
        "trainer.fit(system)"
      ],
      "execution_count": null,
      "outputs": []
    },
    {
      "cell_type": "code",
      "metadata": {
        "id": "Vf39ysjlBbLw",
        "colab": {
          "base_uri": "https://localhost:8080/"
        },
        "outputId": "dc8e74c9-8481-4ae7-bd30-0d8fcd9dc381"
      },
      "source": [
        "system"
      ],
      "execution_count": 1,
      "outputs": [
        {
          "output_type": "execute_result",
          "data": {
            "text/plain": [
              "[]"
            ]
          },
          "metadata": {
            "tags": []
          },
          "execution_count": 1
        }
      ]
    },
    {
      "cell_type": "code",
      "metadata": {
        "colab": {
          "base_uri": "https://localhost:8080/"
        },
        "id": "9K-eiN7SCGjW",
        "outputId": "d9de0a1e-3a9b-4e67-918d-1c304c161608"
      },
      "source": [
        "print(g[1])"
      ],
      "execution_count": 26,
      "outputs": [
        {
          "output_type": "stream",
          "text": [
            "{'vocals': tensor([[[ 0.0580,  0.0469,  0.0109,  ..., -0.0008, -0.0009, -0.0009],\n",
            "         [ 0.0635,  0.0524,  0.0130,  ...,  0.0004,  0.0004,  0.0004]]]), 'bass': tensor([[[-8.4503e-02, -1.0553e-01, -9.1248e-02,  ...,  3.0518e-05,\n",
            "           3.0518e-05,  3.0518e-05],\n",
            "         [-8.8501e-02, -1.1063e-01, -9.6008e-02,  ...,  0.0000e+00,\n",
            "           0.0000e+00,  0.0000e+00]]]), 'drums': tensor([[[-2.9602e-03,  4.4556e-03,  1.3702e-02,  ..., -3.0518e-05,\n",
            "           9.1553e-05,  0.0000e+00],\n",
            "         [-1.9897e-02, -1.0651e-02,  9.8877e-03,  ...,  3.0518e-05,\n",
            "           1.2207e-04,  3.0518e-05]]]), 'other': tensor([[[ 0.0121,  0.0146,  0.0117,  ..., -0.0004, -0.0004, -0.0004],\n",
            "         [ 0.0048,  0.0058,  0.0049,  ...,  0.0004,  0.0004,  0.0003]]])}\n"
          ],
          "name": "stdout"
        }
      ]
    },
    {
      "cell_type": "code",
      "metadata": {
        "id": "mkA3FAf2HoZy",
        "colab": {
          "base_uri": "https://localhost:8080/"
        },
        "outputId": "0ba4a04a-032e-4a7e-bcf1-8c63c804b15a"
      },
      "source": [
        "print(torch.narrow(j, 1, 1, 1).shape)"
      ],
      "execution_count": null,
      "outputs": [
        {
          "output_type": "stream",
          "text": [
            "torch.Size([1, 1, 300032])\n"
          ],
          "name": "stdout"
        }
      ]
    },
    {
      "cell_type": "code",
      "metadata": {
        "colab": {
          "base_uri": "https://localhost:8080/"
        },
        "id": "X68aKIf7_ODe",
        "outputId": "495c1043-b618-4247-dc25-eb1673edb807"
      },
      "source": [
        "g[1]['bass'].shape"
      ],
      "execution_count": 13,
      "outputs": [
        {
          "output_type": "execute_result",
          "data": {
            "text/plain": [
              "torch.Size([1, 2, 300032])"
            ]
          },
          "metadata": {
            "tags": []
          },
          "execution_count": 13
        }
      ]
    },
    {
      "cell_type": "markdown",
      "metadata": {
        "id": "xAYuaZGpMT7A"
      },
      "source": [
        "# Encoder"
      ]
    },
    {
      "cell_type": "code",
      "metadata": {
        "id": "PZNnpgKFMXpK"
      },
      "source": [
        ""
      ],
      "execution_count": null,
      "outputs": []
    },
    {
      "cell_type": "markdown",
      "metadata": {
        "id": "2w1GyiNoMbZ_"
      },
      "source": [
        "# Masking Network"
      ]
    },
    {
      "cell_type": "markdown",
      "metadata": {
        "id": "0lHGX6VDMl-t"
      },
      "source": [
        "# Decoder"
      ]
    }
  ]
}